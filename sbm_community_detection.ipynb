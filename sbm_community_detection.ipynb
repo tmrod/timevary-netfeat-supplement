{
 "cells": [
  {
   "cell_type": "markdown",
   "metadata": {
    "ein.tags": "worksheet-0",
    "slideshow": {
     "slide_type": "-"
    }
   },
   "source": [
    "# Detecting communities from graph signals on sequences of graphs\n",
    "\n",
    "Here, we demonstrate some numerical experiments to demonstrate and push the bounds of the proposed community detection algorithm."
   ]
  },
  {
   "cell_type": "code",
   "execution_count": 1,
   "metadata": {},
   "outputs": [],
   "source": [
    "from lib import *\n",
    "\n",
    "from random import choices, sample, randint, seed\n",
    "seed(1776)\n",
    "np.random.seed(1776)\n",
    "\n",
    "import pandas as pd\n",
    "\n",
    "from sklearn.manifold import TSNE\n",
    "\n",
    "import matplotlib.pyplot as plt\n",
    "plt.rc('text', usetex=True)\n",
    "plt.rc('font', family='serif')\n",
    "\n",
    "from IPython.display import set_matplotlib_formats\n",
    "set_matplotlib_formats('png','pdf')\n",
    "\n",
    "from cycler import cycler\n",
    "plotcycle = cycler('linestyle', ['-','--','-','--','-','--']) + \\\n",
    "            cycler('marker', ['^','x','o','^','x','o']) + \\\n",
    "            cycler('color', ['tab:blue','tab:orange','tab:green','tab:red','tab:cyan','tab:purple'])\n",
    "plt.rcParams['axes.prop_cycle'] = plotcycle"
   ]
  },
  {
   "cell_type": "markdown",
   "metadata": {
    "ein.tags": "worksheet-0",
    "slideshow": {
     "slide_type": "-"
    }
   },
   "source": [
    "## Model order selection\n",
    "\n",
    "We set the graph parameters here, with $N=500$ nodes, $k=3$ communities, and intracluster edge probability of $p=4\\log N/N$.\n",
    "The values of $\\gamma$ that dictate $q=\\gamma p$ range from $0.1$ to $0.9$.\n",
    "The excitation function generates white noise, and the system function draws a graph from the specified PPM and returns the filter\n",
    "$$\\mathcal{H}=\\left(\\mathbf{I}-\\alpha\\mathbf{L}\\right)^5$$\n",
    "for $\\alpha=\\frac{1}{\\log N(4 + 4\\gamma)}$."
   ]
  },
  {
   "cell_type": "code",
   "execution_count": 2,
   "metadata": {
    "autoscroll": false,
    "ein.hycell": false,
    "ein.tags": "worksheet-0",
    "slideshow": {
     "slide_type": "-"
    }
   },
   "outputs": [],
   "source": [
    "# model parameters\n",
    "N = 500\n",
    "ms = [500, 1000, 5000]\n",
    "reference_m = 10000\n",
    "k = 3\n",
    "gammas = np.linspace(0.1, 0.9, 5)\n",
    "\n",
    "# round things to have equally sized communities\n",
    "sizes = list(N//k * np.ones(k).astype(int))\n",
    "N = sum(sizes)\n",
    "true_labels = label_nodes(sizes)\n",
    "\n",
    "p = 4*np.log(N)/N\n",
    "\n",
    "# store output here\n",
    "threshold_results = {}\n",
    "mdl_results = {}\n",
    "for g in gammas:\n",
    "    threshold_results[g] = {}\n",
    "    mdl_results[g] = {}\n",
    "\n",
    "# system-generating functions\n",
    "excitation = lambda : np.random.randn(N) # returns an excitation signal\n",
    "shift = lambda E : laplacian(bernoulli_adjacency_matrix(E))\n",
    "filt = lambda L, alpha : np.linalg.matrix_power((np.eye(N) - alpha*L), 5)\n",
    "system = lambda E, alpha : filt(shift(E), alpha) # returns a filter matrix"
   ]
  },
  {
   "cell_type": "markdown",
   "metadata": {},
   "source": [
    "For each value of $\\gamma$, we form a new graph model, as well as recalculate the filter coefficient $\\alpha$.\n",
    "The spectrum for large $m$ is calculated, and then the optimal threshold for that spectrum is used as a reference for the naive threshold estimator.\n",
    "The MDL and naive threshold estimators are then applied for multiple values of $m$."
   ]
  },
  {
   "cell_type": "code",
   "execution_count": 3,
   "metadata": {
    "autoscroll": false,
    "ein.hycell": false,
    "ein.tags": "worksheet-0",
    "slideshow": {
     "slide_type": "-"
    }
   },
   "outputs": [
    {
     "name": "stdout",
     "output_type": "stream",
     "text": [
      "gamma 0.9 m 5000 run 901 m 5000 run 99\r"
     ]
    }
   ],
   "source": [
    "for gamma in gammas:\n",
    "    \n",
    "    q = gamma*p\n",
    "    E = expected_sbm_matrix(true_labels, sbm_pp_parameters(k, p, q))\n",
    "    alpha = 1/(np.log(N)*(4+4*gamma))\n",
    "    system_ = lambda : system(E, alpha)\n",
    "    \n",
    "    expected_spectrum = np.linalg.eigvalsh(empirical_covariance(system_, excitation, reference_m))\n",
    "    threshold = 1/2*(expected_spectrum[N-k-1] + expected_spectrum[N-k])\n",
    "    \n",
    "    for m in ms:\n",
    "        \n",
    "        threshold_results[gamma][m] = list()\n",
    "        mdl_results[gamma][m] = list()\n",
    "\n",
    "        for i in range(10):\n",
    "        \n",
    "            print(f'gamma {gamma} m {m} run {i}\\r', end='')\n",
    "    \n",
    "            C = empirical_covariance(system_, excitation, m)\n",
    "            threshold_results[gamma][m].append(order_selection(C, threshold))\n",
    "            mdl_results[gamma][m].append(mdl_order_selection(C, m))\n",
    "            \n",
    "        threshold_results[gamma][m] = np.mean(threshold_results[gamma][m])\n",
    "        mdl_results[gamma][m] = np.mean(mdl_results[gamma][m])"
   ]
  },
  {
   "cell_type": "code",
   "execution_count": 4,
   "metadata": {
    "autoscroll": false,
    "ein.hycell": false,
    "ein.tags": "worksheet-0",
    "scrolled": false,
    "slideshow": {
     "slide_type": "-"
    }
   },
   "outputs": [
    {
     "data": {
      "image/png": "[encoded data removed]",
      "text/plain": [
       "<Figure size 432x288 with 1 Axes>"
      ]
     },
     "metadata": {
      "needs_background": "light"
     },
     "output_type": "display_data"
    }
   ],
   "source": [
    "for m in ms:\n",
    "    plt.plot(gammas, [threshold_results[g][m] for g in gammas], label=rf'Naive threshold $m={m}$')\n",
    "    plt.plot(gammas, [mdl_results[g][m] for g in gammas], label=rf'MDL $m={m}$')\n",
    "plt.axhline(y=k, xmin=0.0, xmax=1.0, color='r', label='True order')\n",
    "plt.ylim(0,10)\n",
    "plt.legend()\n",
    "plt.xlabel(r'Ratio $\\gamma$')\n",
    "plt.ylabel(r'Estimated order $k$')\n",
    "plt.savefig('figs/order-estimation.pdf')"
   ]
  },
  {
   "cell_type": "markdown",
   "metadata": {},
   "source": [
    "The naive threshold estimator tends to overestimate the model order, so we truncate the y-axis of this plot for visibility."
   ]
  },
  {
   "cell_type": "markdown",
   "metadata": {
    "ein.tags": "worksheet-0",
    "slideshow": {
     "slide_type": "-"
    }
   },
   "source": [
    "## Colored excitation\n",
    "\n",
    "We set the graph paremeters here.\n",
    "$N=500$ nodes are used, with $m$ ranging from $10$ to $1000$ on a logarithmic scale.\n",
    "There are $k=2$ communities with a fixed $\\gamma=0.3$.\n",
    "The graph filter is the same as before."
   ]
  },
  {
   "cell_type": "code",
   "execution_count": 5,
   "metadata": {
    "autoscroll": false,
    "ein.hycell": false,
    "ein.tags": "worksheet-0",
    "slideshow": {
     "slide_type": "-"
    }
   },
   "outputs": [],
   "source": [
    "# model parameters\n",
    "N = 500\n",
    "m = 1000\n",
    "ms = np.round(np.logspace(1, np.log10(m), 9, base=10)).astype(int)\n",
    "k = 2\n",
    "gamma = 0.3\n",
    "\n",
    "# round things to have equally sized communities\n",
    "sizes = list(N//k * np.ones(k).astype(int))\n",
    "N = sum(sizes)\n",
    "true_labels = label_nodes(sizes)\n",
    "\n",
    "p = 4*np.log(N)/N\n",
    "q = gamma*p\n",
    "E = expected_sbm_matrix(true_labels, sbm_pp_parameters(k, p, q))\n",
    "alpha = 1/(np.log(N)*(4+4*gamma))\n",
    "\n",
    "# store output here\n",
    "colored_error_rates = {}\n",
    "\n",
    "# system-generating functions\n",
    "shift = lambda E : laplacian(bernoulli_adjacency_matrix(E))\n",
    "filt = lambda L, alpha : np.linalg.matrix_power((np.eye(N) - alpha*L), 5)\n",
    "system = lambda : filt(shift(E), alpha) # returns a filter matrix"
   ]
  },
  {
   "cell_type": "markdown",
   "metadata": {},
   "source": [
    "The system excitations are created by coloring white noise.\n",
    "The base function is ```white_color```, which simply returns a white Gaussian vector.\n",
    "This excitation can then be modified with ```colored_function```, which takes a matrix $\\mathbf{M}$ and returns a new function that multiplies $\\mathbf{M}$ by a white Gaussian vector.\n",
    "\n",
    "The adversarial color, for example, is created using a weighted sum of $\\mathbf{V}_{noise}\\mathbf{V}_{noise}^\\top$ and $\\mathbf{V}_{good}\\mathbf{V}_{good}^\\top$, which correspond to the lower $N-k$ and upper $k$ eigenvectors of the expected adjacency matrix, respectively."
   ]
  },
  {
   "cell_type": "code",
   "execution_count": 6,
   "metadata": {},
   "outputs": [],
   "source": [
    "# building the functions to use for colored excitation\n",
    "\n",
    "# white input\n",
    "white_color = lambda : np.random.randn(N)\n",
    "\n",
    "# everything else : specify a matrix M to color Gaussian noise with\n",
    "# this returns a new excitation function that takes no input\n",
    "colored_function = lambda M : lambda : M @ white_color()\n",
    "\n",
    "## adversarial/friendly input\n",
    "_, V = np.linalg.eigh(E)\n",
    "V_noise = V[:, 0:N-k]\n",
    "V_good = V[:, N-k:]\n",
    "VV_noise = V_noise @ V_noise.T\n",
    "VV_good = V_good @ V_good.T\n",
    "\n",
    "colors = ['white', 'diagonal', 'adversarial', \n",
    "          #'friendly',\n",
    "          'Wishart 10', 'Wishart 100']"
   ]
  },
  {
   "cell_type": "markdown",
   "metadata": {},
   "source": [
    "Each data point is evaluated 10 times and averaged to yield the plotted values."
   ]
  },
  {
   "cell_type": "code",
   "execution_count": 7,
   "metadata": {},
   "outputs": [
    {
     "name": "stdout",
     "output_type": "stream",
     "text": [
      "Wishart 100 run 9\r"
     ]
    }
   ],
   "source": [
    "for color in colors:\n",
    "    \n",
    "    colored_error_rates[color] = list()\n",
    "    \n",
    "    for i in range(10):\n",
    "        \n",
    "        if color == 'white':\n",
    "            excitation = white_color\n",
    "        elif color == 'diagonal':\n",
    "            excitation = colored_function(np.diag(np.random.rand(N)))\n",
    "        elif color == 'adversarial':\n",
    "            excitation = colored_function(0.9*VV_noise + 0.1*VV_good)\n",
    "        #elif color == 'friendly':\n",
    "        #    excitation = colored_function(0.1*VV_noise + 0.9*VV_good)\n",
    "        elif color == 'Wishart 10':\n",
    "            M = np.cov(np.random.randn(N,10))\n",
    "            W, V = np.linalg.eigh(M)\n",
    "            M = V @ np.diag(np.sqrt(W, where=(W>0))) @ V.T\n",
    "            excitation = colored_function(M)\n",
    "        elif color == 'Wishart 100':\n",
    "            M = np.cov(np.random.randn(N,100))\n",
    "            W, V = np.linalg.eigh(M)\n",
    "            M = V @ np.diag(np.sqrt(W, where=(W>0))) @ V.T\n",
    "            excitation = colored_function(M)\n",
    "            \n",
    "        print(f'{color} run {i}\\r', end='')\n",
    "            \n",
    "        Cs = empirical_covariance_multiple(system, excitation, ms)\n",
    "        pred_labels = [partition_recovery(C, k) for C in Cs]\n",
    "        errs = [fraction_mislabeled_nodes(true_labels, pred) for pred in pred_labels]\n",
    "        \n",
    "        colored_error_rates[color].append(errs)\n",
    "        \n",
    "    colored_error_rates[color] = np.mean(colored_error_rates[color], axis=0)"
   ]
  },
  {
   "cell_type": "code",
   "execution_count": 8,
   "metadata": {},
   "outputs": [
    {
     "data": {
      "image/png": "[encoded data removed]",
      "text/plain": [
       "<Figure size 432x288 with 1 Axes>"
      ]
     },
     "metadata": {
      "needs_background": "light"
     },
     "output_type": "display_data"
    }
   ],
   "source": [
    "for color in colors:\n",
    "    plt.loglog(ms, colored_error_rates[color], label=rf'{color}')\n",
    "plt.legend()\n",
    "plt.xlabel(rf'Sample size $m$')\n",
    "plt.ylabel(r'Error rate')\n",
    "plt.savefig('figs/colored-excitation.pdf')"
   ]
  },
  {
   "cell_type": "markdown",
   "metadata": {
    "ein.tags": "worksheet-0",
    "slideshow": {
     "slide_type": "-"
    }
   },
   "source": [
    "## Graph sequence independence\n",
    "\n",
    "Once again, we define the graph parameters here. Note that $\\gamma$ here is specifically chosen, via a bit of simple algebra, to be at the detectability limit.\n",
    "This highlights the fact that our algorithm can leverage the observation of many graphs to successfully perform the community detection task even when standard detectability requirements are barely met."
   ]
  },
  {
   "cell_type": "code",
   "execution_count": 9,
   "metadata": {
    "autoscroll": false,
    "ein.hycell": false,
    "ein.tags": "worksheet-0",
    "slideshow": {
     "slide_type": "-"
    }
   },
   "outputs": [],
   "source": [
    "# model parameters\n",
    "N = 500\n",
    "m = 2000\n",
    "ms = np.round(np.logspace(1, np.log10(m), 9, base=10)).astype(int)\n",
    "k = 2\n",
    "\n",
    "# round things to have equally sized communities\n",
    "sizes = list(N//k * np.ones(k).astype(int))\n",
    "N = sum(sizes)\n",
    "true_labels = label_nodes(sizes)\n",
    "\n",
    "p = 4*np.log(N)/N\n",
    "gamma_threshold = 1 + 1 / (4 * np.log(N)) - 1 / 2 * np.sqrt(4 / np.log(N) + 1 / (4 * (np.log(N) ** 2)))\n",
    "gamma_hi = gamma_threshold\n",
    "q = gamma_hi*p\n",
    "\n",
    "E = expected_sbm_matrix(true_labels, sbm_pp_parameters(k, p, q))\n",
    "alpha = 1/(np.log(N)*(4+4*gamma_hi))\n",
    "\n",
    "# store output here\n",
    "dependent_error_rates = {}"
   ]
  },
  {
   "cell_type": "markdown",
   "metadata": {},
   "source": [
    "The graph-drawing process is implemented as a generator, created using the Bernoulli parameter $p$"
   ]
  },
  {
   "cell_type": "code",
   "execution_count": 10,
   "metadata": {
    "autoscroll": false,
    "ein.hycell": false,
    "ein.tags": "worksheet-0",
    "slideshow": {
     "slide_type": "-"
    }
   },
   "outputs": [],
   "source": [
    "def bernoulli_shift_generator(E, p):\n",
    "    # draw a new adjacency matrix with probability p at each step\n",
    "    A = bernoulli_adjacency_matrix(E)\n",
    "    while True:\n",
    "        yield A\n",
    "        A = choices([A, bernoulli_adjacency_matrix(E)],\n",
    "                    weights=[1-p, p],\n",
    "                    k=1)[0]\n",
    "        \n",
    "def independent_shift_generator(E):\n",
    "    while True:\n",
    "        yield bernoulli_adjacency_matrix(E)\n",
    "            \n",
    "def constant_shift_generator(E):\n",
    "    A = bernoulli_adjacency_matrix(E)\n",
    "    while True:\n",
    "        yield A\n",
    "\n",
    "# system-generating functions\n",
    "excitation = lambda : np.random.randn(N)\n",
    "shift = lambda E : laplacian(bernoulli_adjacency_matrix(E))\n",
    "filt = lambda L, alpha : np.linalg.matrix_power((np.eye(N) - alpha*L), 5)\n",
    "\n",
    "policies = ['constant', r'bernoulli $p=0.1$', r'bernoulli $p=0.5$', 'independent']"
   ]
  },
  {
   "cell_type": "markdown",
   "metadata": {},
   "source": [
    "Each graph sampling policy gets 10 runs, with a new initial state for each run."
   ]
  },
  {
   "cell_type": "code",
   "execution_count": 11,
   "metadata": {},
   "outputs": [
    {
     "name": "stdout",
     "output_type": "stream",
     "text": [
      "independent run 9 run 9\r"
     ]
    }
   ],
   "source": [
    "for policy in policies:\n",
    "    \n",
    "    dependent_error_rates[policy] = list()\n",
    "    \n",
    "    for i in range(10):\n",
    "        \n",
    "        print(f'{policy} run {i}\\r',end='')\n",
    "        \n",
    "        if policy == 'constant':\n",
    "            gen = constant_shift_generator(E)\n",
    "        elif policy == 'bernoulli $p=0.1$':\n",
    "            gen = bernoulli_shift_generator(E, 0.1)\n",
    "        elif policy == 'bernoulli $p=0.5$':\n",
    "            gen = bernoulli_shift_generator(E, 0.5)\n",
    "        elif policy == 'independent':\n",
    "            gen = independent_shift_generator(E)\n",
    "            \n",
    "        system = lambda : filt(laplacian(next(gen)), alpha)\n",
    "        \n",
    "        Cs = empirical_covariance_multiple(system, excitation, ms)\n",
    "        pred_labels = [partition_recovery(C, k) for C in Cs]\n",
    "        errs = [fraction_mislabeled_nodes(true_labels, pred) for pred in pred_labels]\n",
    "        \n",
    "        dependent_error_rates[policy].append(errs)\n",
    "        \n",
    "    dependent_error_rates[policy] = np.mean(dependent_error_rates[policy], axis=0)"
   ]
  },
  {
   "cell_type": "code",
   "execution_count": 12,
   "metadata": {},
   "outputs": [
    {
     "data": {
      "image/png": "[encoded data removed]",
      "text/plain": [
       "<Figure size 432x288 with 1 Axes>"
      ]
     },
     "metadata": {
      "needs_background": "light"
     },
     "output_type": "display_data"
    }
   ],
   "source": [
    "for policy in policies:\n",
    "    plt.loglog(ms, dependent_error_rates[policy], label=rf'{policy}')\n",
    "plt.legend()\n",
    "plt.xlabel(rf'Sample size $m$')\n",
    "plt.ylabel(r'Error rate')\n",
    "plt.savefig('figs/graph-sequence.pdf')"
   ]
  },
  {
   "cell_type": "markdown",
   "metadata": {
    "ein.tags": "worksheet-0",
    "slideshow": {
     "slide_type": "-"
    }
   },
   "source": [
    "## Number of communities\n",
    "\n"
   ]
  },
  {
   "cell_type": "code",
   "execution_count": 13,
   "metadata": {
    "autoscroll": false,
    "ein.hycell": false,
    "ein.tags": "worksheet-0",
    "slideshow": {
     "slide_type": "-"
    }
   },
   "outputs": [],
   "source": [
    "# model parameters\n",
    "n = 50\n",
    "m = 1000\n",
    "ms = np.round(np.logspace(1, np.log10(m), 9, base=10)).astype(int)\n",
    "ks = [2,4,8,12]\n",
    "gamma_base = 0.3\n",
    "\n",
    "# share p for all runs\n",
    "p = 4*np.log(2*n)/(2*n)\n",
    "\n",
    "# store output here\n",
    "communities_overlap_scores = {}\n",
    "communities_error_rates = {}\n",
    "\n",
    "# system generating functions\n",
    "shift = lambda E : laplacian(bernoulli_adjacency_matrix(E))\n",
    "filt = lambda L, alpha : np.linalg.matrix_power((np.eye(*L.shape) - alpha*L), 5)"
   ]
  },
  {
   "cell_type": "markdown",
   "metadata": {},
   "source": [
    "For each number of communities $k$, we modify the $\\gamma$ parameter to make the \"signal to noise ratio\" constant.\n",
    "Specifically,\n",
    "$$\\gamma(k)=\\frac{\\gamma(2)}{k-1}$$\n",
    "keeps the number of \"interference edges\" at each cluster constant."
   ]
  },
  {
   "cell_type": "code",
   "execution_count": 14,
   "metadata": {},
   "outputs": [
    {
     "name": "stdout",
     "output_type": "stream",
     "text": [
      "k 12 run 19\r"
     ]
    }
   ],
   "source": [
    "for k in ks:\n",
    "    \n",
    "    communities_overlap_scores[k] = list()\n",
    "    communities_error_rates[k] = list()\n",
    "    \n",
    "    sizes = list(n * np.ones(k).astype(int))\n",
    "    N = sum(sizes)\n",
    "    true_labels = label_nodes(sizes)\n",
    "\n",
    "    excitation = lambda : np.random.randn(N)\n",
    "    \n",
    "    gamma = gamma_base / (k-1)\n",
    "    #p = 4*np.log(N)/N\n",
    "    q = gamma*p\n",
    "    E = expected_sbm_matrix(true_labels, sbm_pp_parameters(k, p, q))\n",
    "    alpha = 1/(np.log(N)*(4+4*gamma))\n",
    "    \n",
    "    system = lambda : filt(shift(E), alpha)\n",
    "\n",
    "    for i in range(20):\n",
    "        \n",
    "        print(f'k {k} run {i}\\r',end='')\n",
    "        \n",
    "        Cs = empirical_covariance_multiple(system, excitation, ms)\n",
    "        pred_labels = [partition_recovery(C, k) for C in Cs]\n",
    "        overlaps = [overlap_score(true_labels, pred) for pred in pred_labels]\n",
    "        errs = [fraction_mislabeled_nodes(true_labels, pred) for pred in pred_labels]\n",
    "        \n",
    "        communities_overlap_scores[k].append(overlaps)\n",
    "        communities_error_rates[k].append(errs)\n",
    "        \n",
    "    communities_overlap_scores[k] = np.mean(communities_overlap_scores[k], axis=0)\n",
    "    communities_error_rates[k] = np.mean(communities_error_rates[k], axis=0)"
   ]
  },
  {
   "cell_type": "code",
   "execution_count": 15,
   "metadata": {},
   "outputs": [
    {
     "data": {
      "image/png": "[encoded data removed]",
      "text/plain": [
       "<Figure size 432x288 with 1 Axes>"
      ]
     },
     "metadata": {
      "needs_background": "light"
     },
     "output_type": "display_data"
    }
   ],
   "source": [
    "for k in ks:\n",
    "    plt.plot(ms, communities_overlap_scores[k], label=rf'$k={k}$')\n",
    "plt.legend()\n",
    "plt.xlabel(r'Sample size $m$')\n",
    "plt.ylabel(r'Overlap score')\n",
    "plt.xscale('log')\n",
    "plt.savefig('figs/communities-overlap.pdf')"
   ]
  },
  {
   "cell_type": "code",
   "execution_count": 16,
   "metadata": {},
   "outputs": [
    {
     "data": {
      "image/png": "[encoded data removed]",
      "text/plain": [
       "<Figure size 432x288 with 1 Axes>"
      ]
     },
     "metadata": {
      "needs_background": "light"
     },
     "output_type": "display_data"
    }
   ],
   "source": [
    "for k in ks:\n",
    "    plt.loglog(ms, communities_error_rates[k], label=rf'$k={k}$')\n",
    "plt.legend()\n",
    "plt.xlabel(r'Sample size $m$')\n",
    "plt.ylabel(r'Error rate')\n",
    "plt.savefig('figs/communities.pdf')"
   ]
  },
  {
   "cell_type": "markdown",
   "metadata": {
    "ein.tags": "worksheet-0",
    "slideshow": {
     "slide_type": "-"
    }
   },
   "source": [
    "## Clustering stock data\n",
    "\n"
   ]
  },
  {
   "cell_type": "markdown",
   "metadata": {},
   "source": [
    "Here, we demonstrate the full pipeline of analysis for stock data from the S&P 100 (obtained from [Yahoo! Finance](https://finance.yahoo.com/)).\n",
    "We've already pulled the data inta a pandas dataframe here."
   ]
  },
  {
   "cell_type": "code",
   "execution_count": 17,
   "metadata": {},
   "outputs": [],
   "source": [
    "df = pd.read_pickle('stock_data/stock_dataframe.pkl')\n",
    "\n",
    "# stock names are columns of dataframe\n",
    "ticks = list(df.columns)\n",
    "\n",
    "# calculate log-return and normalize\n",
    "signals = df.values\n",
    "log_return = np.log(signals[1:,:]/signals[0:-1,:])\n",
    "log_return = (log_return - np.mean(log_return, axis=0)) / np.std(log_return, axis=0)\n",
    "\n",
    "M = log_return.shape[0]"
   ]
  },
  {
   "cell_type": "markdown",
   "metadata": {},
   "source": [
    "### Initial look\n",
    "\n",
    "First, we apply the order selection and community detection algorithm to the entire dataset, to obtain a \"ground truth.\""
   ]
  },
  {
   "cell_type": "code",
   "execution_count": 18,
   "metadata": {},
   "outputs": [],
   "source": [
    "C = np.cov(log_return.T)\n",
    "true_k = mdl_order_selection(C, M)\n",
    "\n",
    "labels = partition_recovery(C, true_k)\n",
    "\n",
    "D = {}\n",
    "\n",
    "for i in range(true_k):\n",
    "    D[i] = list()\n",
    "    \n",
    "for l,t in zip(labels, ticks):\n",
    "    D[l].append(t)\n",
    "\n",
    "_, v = np.linalg.eigh(C)\n",
    "v = v[:,-true_k:]"
   ]
  },
  {
   "cell_type": "code",
   "execution_count": 19,
   "metadata": {
    "scrolled": false
   },
   "outputs": [
    {
     "data": {
      "image/png": "[encoded data removed]",
      "text/plain": [
       "<Figure size 432x288 with 1 Axes>"
      ]
     },
     "metadata": {
      "needs_background": "light"
     },
     "output_type": "display_data"
    }
   ],
   "source": [
    "embedding = TSNE(n_components=2, perplexity=20).fit_transform(v)\n",
    "\n",
    "fig, ax = plt.subplots()\n",
    "\n",
    "ax.scatter(embedding[:,0].T, embedding[:,1].T, c=labels, cmap='rainbow')\n",
    "\n",
    "special_ticks = D[np.random.randint(true_k)]\n",
    "special_points = np.array([e for l,e in zip(ticks, embedding) if l in special_ticks])\n",
    "\n",
    "special_center = np.mean(special_points, axis=0)\n",
    "special_radius = np.max(np.linalg.norm(special_points - special_center, axis=1))\n",
    "\n",
    "ax.add_patch(plt.Circle(special_center, 1.1*special_radius, color='k', fill=False))\n",
    "\n",
    "ax.axis('off')\n",
    "fig.savefig('figs/stock-tsne.pdf')"
   ]
  },
  {
   "cell_type": "code",
   "execution_count": 20,
   "metadata": {},
   "outputs": [
    {
     "data": {
      "image/png": "[encoded data removed]",
      "text/plain": [
       "<Figure size 432x288 with 1 Axes>"
      ]
     },
     "metadata": {
      "needs_background": "light"
     },
     "output_type": "display_data"
    }
   ],
   "source": [
    "special_points -= np.min(special_points, axis=0)\n",
    "special_points /= np.max(special_points, axis=0)\n",
    "\n",
    "plt.scatter(special_points[:,0].T, special_points[:,1].T)\n",
    "\n",
    "for l,e in zip(special_ticks, special_points):\n",
    "    plt.text(*(e-[0.05,-0.02]), l, fontsize=14)\n",
    "    \n",
    "plt.axis('off')\n",
    "plt.savefig('figs/stock-tsne-zoomed.pdf')"
   ]
  },
  {
   "cell_type": "code",
   "execution_count": 21,
   "metadata": {},
   "outputs": [
    {
     "data": {
      "text/html": [
       "<div>\n",
       "<style scoped>\n",
       "    .dataframe tbody tr th:only-of-type {\n",
       "        vertical-align: middle;\n",
       "    }\n",
       "\n",
       "    .dataframe tbody tr th {\n",
       "        vertical-align: top;\n",
       "    }\n",
       "\n",
       "    .dataframe thead th {\n",
       "        text-align: right;\n",
       "    }\n",
       "</style>\n",
       "<table border=\"1\" class=\"dataframe\">\n",
       "  <thead>\n",
       "    <tr style=\"text-align: right;\">\n",
       "      <th></th>\n",
       "      <th>0</th>\n",
       "      <th>1</th>\n",
       "      <th>2</th>\n",
       "      <th>3</th>\n",
       "      <th>4</th>\n",
       "      <th>5</th>\n",
       "      <th>6</th>\n",
       "      <th>7</th>\n",
       "      <th>8</th>\n",
       "      <th>9</th>\n",
       "      <th>10</th>\n",
       "      <th>11</th>\n",
       "      <th>12</th>\n",
       "      <th>13</th>\n",
       "      <th>14</th>\n",
       "    </tr>\n",
       "  </thead>\n",
       "  <tbody>\n",
       "    <tr>\n",
       "      <th>0</th>\n",
       "      <td>GD</td>\n",
       "      <td>LMT</td>\n",
       "      <td>RTN</td>\n",
       "      <td>None</td>\n",
       "      <td>None</td>\n",
       "      <td>None</td>\n",
       "      <td>None</td>\n",
       "      <td>None</td>\n",
       "      <td>None</td>\n",
       "      <td>None</td>\n",
       "      <td>None</td>\n",
       "      <td>None</td>\n",
       "      <td>None</td>\n",
       "      <td>None</td>\n",
       "      <td>None</td>\n",
       "    </tr>\n",
       "    <tr>\n",
       "      <th>1</th>\n",
       "      <td>AIG</td>\n",
       "      <td>ALL</td>\n",
       "      <td>AXP</td>\n",
       "      <td>BAC</td>\n",
       "      <td>BK</td>\n",
       "      <td>BLK</td>\n",
       "      <td>C</td>\n",
       "      <td>COF</td>\n",
       "      <td>GS</td>\n",
       "      <td>JPM</td>\n",
       "      <td>MET</td>\n",
       "      <td>MS</td>\n",
       "      <td>USB</td>\n",
       "      <td>WFC</td>\n",
       "      <td>None</td>\n",
       "    </tr>\n",
       "    <tr>\n",
       "      <th>2</th>\n",
       "      <td>AAPL</td>\n",
       "      <td>ACN</td>\n",
       "      <td>AMZN</td>\n",
       "      <td>CSCO</td>\n",
       "      <td>FB</td>\n",
       "      <td>GOOG</td>\n",
       "      <td>INTC</td>\n",
       "      <td>MA</td>\n",
       "      <td>MSFT</td>\n",
       "      <td>ORCL</td>\n",
       "      <td>PYPL</td>\n",
       "      <td>TXN</td>\n",
       "      <td>V</td>\n",
       "      <td>None</td>\n",
       "      <td>None</td>\n",
       "    </tr>\n",
       "    <tr>\n",
       "      <th>3</th>\n",
       "      <td>COP</td>\n",
       "      <td>CVX</td>\n",
       "      <td>HAL</td>\n",
       "      <td>KMI</td>\n",
       "      <td>OXY</td>\n",
       "      <td>SLB</td>\n",
       "      <td>XOM</td>\n",
       "      <td>None</td>\n",
       "      <td>None</td>\n",
       "      <td>None</td>\n",
       "      <td>None</td>\n",
       "      <td>None</td>\n",
       "      <td>None</td>\n",
       "      <td>None</td>\n",
       "      <td>None</td>\n",
       "    </tr>\n",
       "    <tr>\n",
       "      <th>4</th>\n",
       "      <td>CL</td>\n",
       "      <td>KHC</td>\n",
       "      <td>KO</td>\n",
       "      <td>MCD</td>\n",
       "      <td>MDLZ</td>\n",
       "      <td>MO</td>\n",
       "      <td>PEP</td>\n",
       "      <td>PG</td>\n",
       "      <td>PM</td>\n",
       "      <td>None</td>\n",
       "      <td>None</td>\n",
       "      <td>None</td>\n",
       "      <td>None</td>\n",
       "      <td>None</td>\n",
       "      <td>None</td>\n",
       "    </tr>\n",
       "    <tr>\n",
       "      <th>5</th>\n",
       "      <td>ABBV</td>\n",
       "      <td>ABT</td>\n",
       "      <td>AGN</td>\n",
       "      <td>AMGN</td>\n",
       "      <td>BIIB</td>\n",
       "      <td>BMY</td>\n",
       "      <td>CELG</td>\n",
       "      <td>GILD</td>\n",
       "      <td>JNJ</td>\n",
       "      <td>LLY</td>\n",
       "      <td>MDT</td>\n",
       "      <td>MRK</td>\n",
       "      <td>PFE</td>\n",
       "      <td>None</td>\n",
       "      <td>None</td>\n",
       "    </tr>\n",
       "    <tr>\n",
       "      <th>6</th>\n",
       "      <td>COST</td>\n",
       "      <td>CVS</td>\n",
       "      <td>HD</td>\n",
       "      <td>LOW</td>\n",
       "      <td>NKE</td>\n",
       "      <td>SBUX</td>\n",
       "      <td>SPG</td>\n",
       "      <td>TGT</td>\n",
       "      <td>UNH</td>\n",
       "      <td>WBA</td>\n",
       "      <td>WMT</td>\n",
       "      <td>None</td>\n",
       "      <td>None</td>\n",
       "      <td>None</td>\n",
       "      <td>None</td>\n",
       "    </tr>\n",
       "    <tr>\n",
       "      <th>7</th>\n",
       "      <td>DUK</td>\n",
       "      <td>EXC</td>\n",
       "      <td>NEE</td>\n",
       "      <td>SO</td>\n",
       "      <td>None</td>\n",
       "      <td>None</td>\n",
       "      <td>None</td>\n",
       "      <td>None</td>\n",
       "      <td>None</td>\n",
       "      <td>None</td>\n",
       "      <td>None</td>\n",
       "      <td>None</td>\n",
       "      <td>None</td>\n",
       "      <td>None</td>\n",
       "      <td>None</td>\n",
       "    </tr>\n",
       "    <tr>\n",
       "      <th>8</th>\n",
       "      <td>BA</td>\n",
       "      <td>CAT</td>\n",
       "      <td>DD</td>\n",
       "      <td>DHR</td>\n",
       "      <td>EMR</td>\n",
       "      <td>F</td>\n",
       "      <td>FDX</td>\n",
       "      <td>GM</td>\n",
       "      <td>HON</td>\n",
       "      <td>IBM</td>\n",
       "      <td>MMM</td>\n",
       "      <td>QCOM</td>\n",
       "      <td>UNP</td>\n",
       "      <td>UPS</td>\n",
       "      <td>UTX</td>\n",
       "    </tr>\n",
       "    <tr>\n",
       "      <th>9</th>\n",
       "      <td>CMCSA</td>\n",
       "      <td>DIS</td>\n",
       "      <td>FOX</td>\n",
       "      <td>GE</td>\n",
       "      <td>T</td>\n",
       "      <td>VZ</td>\n",
       "      <td>None</td>\n",
       "      <td>None</td>\n",
       "      <td>None</td>\n",
       "      <td>None</td>\n",
       "      <td>None</td>\n",
       "      <td>None</td>\n",
       "      <td>None</td>\n",
       "      <td>None</td>\n",
       "      <td>None</td>\n",
       "    </tr>\n",
       "  </tbody>\n",
       "</table>\n",
       "</div>"
      ],
      "text/plain": [
       "      0    1     2     3     4     5     6     7     8     9     10    11  \\\n",
       "0     GD  LMT   RTN  None  None  None  None  None  None  None  None  None   \n",
       "1    AIG  ALL   AXP   BAC    BK   BLK     C   COF    GS   JPM   MET    MS   \n",
       "2   AAPL  ACN  AMZN  CSCO    FB  GOOG  INTC    MA  MSFT  ORCL  PYPL   TXN   \n",
       "3    COP  CVX   HAL   KMI   OXY   SLB   XOM  None  None  None  None  None   \n",
       "4     CL  KHC    KO   MCD  MDLZ    MO   PEP    PG    PM  None  None  None   \n",
       "5   ABBV  ABT   AGN  AMGN  BIIB   BMY  CELG  GILD   JNJ   LLY   MDT   MRK   \n",
       "6   COST  CVS    HD   LOW   NKE  SBUX   SPG   TGT   UNH   WBA   WMT  None   \n",
       "7    DUK  EXC   NEE    SO  None  None  None  None  None  None  None  None   \n",
       "8     BA  CAT    DD   DHR   EMR     F   FDX    GM   HON   IBM   MMM  QCOM   \n",
       "9  CMCSA  DIS   FOX    GE     T    VZ  None  None  None  None  None  None   \n",
       "\n",
       "     12    13    14  \n",
       "0  None  None  None  \n",
       "1   USB   WFC  None  \n",
       "2     V  None  None  \n",
       "3  None  None  None  \n",
       "4  None  None  None  \n",
       "5   PFE  None  None  \n",
       "6  None  None  None  \n",
       "7  None  None  None  \n",
       "8   UNP   UPS   UTX  \n",
       "9  None  None  None  "
      ]
     },
     "execution_count": 21,
     "metadata": {},
     "output_type": "execute_result"
    }
   ],
   "source": [
    "pd.DataFrame.from_dict(D, orient='index')"
   ]
  },
  {
   "cell_type": "markdown",
   "metadata": {},
   "source": [
    "MDL + Community Detection yields $k=10$ communities in the dataset, tabulated above.\n",
    "Now, we see how well we can recover this when we use fewer samples."
   ]
  },
  {
   "cell_type": "code",
   "execution_count": 22,
   "metadata": {},
   "outputs": [
    {
     "name": "stdout",
     "output_type": "stream",
     "text": [
      "m 753 run 49\r"
     ]
    }
   ],
   "source": [
    "ms = np.round(np.linspace(len(labels), M, 10)).astype(int)\n",
    "\n",
    "results = list()\n",
    "results_known_k = list()\n",
    "orders_contiguous = list()\n",
    "orders_scrambled = list()\n",
    "\n",
    "# contiguous sampling\n",
    "for m in ms:\n",
    "\n",
    "    err_list = list()\n",
    "    err_known_k_list = list()\n",
    "    k_list = list()\n",
    "\n",
    "    for i in range(50):\n",
    "        \n",
    "        print(f'm {m} run {i}\\r',end='')\n",
    "\n",
    "        idx = randint(0,M-m)\n",
    "\n",
    "        C = np.cov(log_return[idx:idx+m].T)\n",
    "        k = mdl_order_selection(C, m)\n",
    "        labels_pred = partition_recovery(C, k)\n",
    "        labels_pred_known_k = partition_recovery(C, true_k)\n",
    "        err_list.append(fraction_mislabeled_nodes(labels, labels_pred))\n",
    "        err_known_k_list.append(fraction_mislabeled_nodes(labels, labels_pred_known_k))\n",
    "        k_list.append(k)\n",
    "\n",
    "    results.append(np.mean(err_list))\n",
    "    results_known_k.append(np.mean(err_known_k_list))\n",
    "    orders_contiguous.append(np.mean(k_list))\n",
    "\n",
    "# random sampling\n",
    "for m in ms:\n",
    "\n",
    "    k_list = list()\n",
    "\n",
    "    for _ in range(50):\n",
    "\n",
    "        idx = np.random.choice(M, size=m, replace=False)\n",
    "\n",
    "        C = np.cov(log_return[idx].T)\n",
    "        k = mdl_order_selection(C, m)\n",
    "        k_list.append(k)\n",
    "\n",
    "    orders_scrambled.append(np.mean(k_list))"
   ]
  },
  {
   "cell_type": "code",
   "execution_count": 23,
   "metadata": {},
   "outputs": [
    {
     "data": {
      "image/png": "[encoded data removed]",
      "text/plain": [
       "<Figure size 432x288 with 1 Axes>"
      ]
     },
     "metadata": {
      "needs_background": "light"
     },
     "output_type": "display_data"
    }
   ],
   "source": [
    "plt.plot(ms, results, label='Order estimation + Clustering')\n",
    "plt.plot(ms, results_known_k, label='Fixed order + Clustering')\n",
    "plt.legend()\n",
    "plt.xlabel(r'Sample size $m$')\n",
    "plt.ylabel(r'Error rate')\n",
    "plt.savefig('figs/stock-error.pdf')"
   ]
  },
  {
   "cell_type": "code",
   "execution_count": 24,
   "metadata": {},
   "outputs": [
    {
     "data": {
      "image/png": "[encoded data removed]",
      "text/plain": [
       "<Figure size 432x288 with 1 Axes>"
      ]
     },
     "metadata": {
      "needs_background": "light"
     },
     "output_type": "display_data"
    }
   ],
   "source": [
    "plt.plot(ms, orders_contiguous, label='Contiguous samples')\n",
    "plt.plot(ms, orders_scrambled, label='Random samples')\n",
    "plt.legend()\n",
    "plt.axhline(y=true_k, xmin = 0.0, xmax = 1.0, color = 'r', label = 'True order')\n",
    "plt.xlabel(r'Sample size $m$')\n",
    "plt.ylabel(r'Predicted order $k$')\n",
    "plt.savefig('figs/stock-order.pdf')"
   ]
  },
  {
   "cell_type": "markdown",
   "metadata": {},
   "source": [
    "Note that the \"error rate\" is only with respect to the communities determined by using all of the data.\n",
    "This serves to demonstrate that as more samples are taken, the community detection algorithm \"smoothly\" recovers the communities.\n",
    "\n",
    "Next, we demonstrate the consistency of our algorithm on the stock dataset.\n",
    "This is done by considering a fixed number of samples, say $m\\approx 200$.\n",
    "We then divide the dataset into contiguous blocks of length $m$, and apply the community detection algorithm ($k=10$) to each set of samples.\n",
    "If the algorithm is consistent, the pairwise classification error rates between them should be small."
   ]
  },
  {
   "cell_type": "code",
   "execution_count": 25,
   "metadata": {},
   "outputs": [
    {
     "data": {
      "text/plain": [
       "array([[1.        , 0.56962025, 0.48101266, 0.49367089],\n",
       "       [0.56962025, 1.        , 0.5875    , 0.5375    ],\n",
       "       [0.48101266, 0.5875    , 1.        , 0.47297297],\n",
       "       [0.49367089, 0.5375    , 0.47297297, 1.        ]])"
      ]
     },
     "execution_count": 25,
     "metadata": {},
     "output_type": "execute_result"
    },
    {
     "data": {
      "image/png": "[encoded data removed]",
      "text/plain": [
       "<Figure size 432x288 with 2 Axes>"
      ]
     },
     "metadata": {
      "needs_background": "light"
     },
     "output_type": "display_data"
    }
   ],
   "source": [
    "m = M//4\n",
    "k = 10\n",
    "\n",
    "sample_sets = [log_return[i*m:(i+1)*m] for i in range(M//m)]\n",
    "Cs = [np.cov(s.T) for s in sample_sets]\n",
    "\n",
    "labels_pred = [partition_recovery(C, k) for C in Cs]\n",
    "\n",
    "pairwise_distances = np.zeros([M//m, M//m])\n",
    "\n",
    "for i in range(0,M//m):\n",
    "    for j in range(i,M//m):\n",
    "        err = overlap_score(labels_pred[i], labels_pred[j])\n",
    "        pairwise_distances[i, j] = err\n",
    "        pairwise_distances[j, i] = err\n",
    "        \n",
    "plt.imshow(pairwise_distances, cmap='bone', vmin=0.0, vmax=1.0)\n",
    "plt.colorbar()\n",
    "plt.axis('off')\n",
    "plt.savefig('figs/stock-consistency.pdf')\n",
    "\n",
    "pairwise_distances"
   ]
  },
  {
   "cell_type": "markdown",
   "metadata": {},
   "source": [
    "In this matrix, each row/column corresponds to a contiguous block of samples.\n",
    "Light cells correspond to high overlap score (notice the diagonal always has an overlap score of 1) and dark cells correspond to low overlap."
   ]
  }
 ],
 "metadata": {
  "kernelspec": {
   "display_name": "Python 3",
   "language": "python",
   "name": "python3"
  },
  "language_info": {
   "codemirror_mode": {
    "name": "ipython",
    "version": 3
   },
   "file_extension": ".py",
   "mimetype": "text/x-python",
   "name": "python",
   "nbconvert_exporter": "python",
   "pygments_lexer": "ipython3",
   "version": "3.7.3"
  },
  "name": "sbm_community_detection.ipynb"
 },
 "nbformat": 4,
 "nbformat_minor": 2
}
